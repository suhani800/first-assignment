{
 "cells": [
  {
   "cell_type": "code",
   "execution_count": null,
   "id": "bc946d63-e31b-4b93-a596-705ff429bb48",
   "metadata": {},
   "outputs": [],
   "source": [
    "#1 Explain the key features of python that make it a popular choice for programming\n",
    " '''Ans  Easy to learn \n",
    "      No of libararies\n",
    "      connects to multiples tools\n",
    "      Huge active community"
   ]
  },
  {
   "cell_type": "code",
   "execution_count": null,
   "id": "e89590c4-8011-46b8-afa6-1478eece8d66",
   "metadata": {},
   "outputs": [],
   "source": [
    "#2 Describe the role of predefined keywords in python and provide example of how they are used in a program\n",
    "''''Ans  Keywords are some predefined and resvered words in python that have special meanings.keywords are used to define the syntax of the coding. The        keyword cannot be used as an identifier, function or variable . All the keywords in python are written in lowercase except True and False."
   ]
  },
  {
   "cell_type": "code",
   "execution_count": null,
   "id": "64257461-e0d3-4862-9b53-26dcec47db4a",
   "metadata": {},
   "outputs": [],
   "source": [
    "'''print (\"example of True,False,and\")"
   ]
  },
  {
   "cell_type": "code",
   "execution_count": 2,
   "id": "76924355-9bf4-43d5-9f73-bfd42af05837",
   "metadata": {},
   "outputs": [
    {
     "name": "stdout",
     "output_type": "stream",
     "text": [
      "True\n"
     ]
    }
   ],
   "source": [
    "print ( True and True )"
   ]
  },
  {
   "cell_type": "code",
   "execution_count": null,
   "id": "dbb01ed4-d12f-4ad4-b4a2-1d2498923b57",
   "metadata": {},
   "outputs": [],
   "source": [
    "#3 compare and contrast mutable and immutable objects in python with examples\n",
    "'''Ans  MUTABLE - Objects whose state or value can be changed after they are created called as mutable object.\n",
    "               list is type of mutable object and it's support item assignment."
   ]
  },
  {
   "cell_type": "code",
   "execution_count": 17,
   "id": "61d9709b-7027-4172-be29-7bb8a618e619",
   "metadata": {},
   "outputs": [
    {
     "data": {
      "text/plain": [
       "'pwskills'"
      ]
     },
     "execution_count": 17,
     "metadata": {},
     "output_type": "execute_result"
    }
   ],
   "source": [
    "list_cont = [1,2,3,4.3,True,(3+5j),\"pwskills\"]\n",
    "list_cont[6]"
   ]
  },
  {
   "cell_type": "code",
   "execution_count": 18,
   "id": "c7150b75-6fde-4dfc-a8e4-66618f971a4b",
   "metadata": {},
   "outputs": [
    {
     "data": {
      "text/plain": [
       "[1, 2, 3, 4.3, True, (3+5j), 'suhani']"
      ]
     },
     "execution_count": 18,
     "metadata": {},
     "output_type": "execute_result"
    }
   ],
   "source": [
    "#Mutability\n",
    "list_cont[6] = \"suhani\"\n",
    "list_cont"
   ]
  },
  {
   "cell_type": "code",
   "execution_count": null,
   "id": "3d37a03e-07a9-4285-aaa8-46e60a95b4ee",
   "metadata": {},
   "outputs": [],
   "source": [
    "'''IMMUTABLE - Object whose state or value can not changed after they are created are called as immutable object.\n",
    "           string is a type of immutable object and doesn't support item assignment."
   ]
  },
  {
   "cell_type": "code",
   "execution_count": 24,
   "id": "3781eddf-1dbb-4d4d-b746-ae85d17d785d",
   "metadata": {},
   "outputs": [
    {
     "ename": "NameError",
     "evalue": "name 'I' is not defined",
     "output_type": "error",
     "traceback": [
      "\u001b[0;31m---------------------------------------------------------------------------\u001b[0m",
      "\u001b[0;31mNameError\u001b[0m                                 Traceback (most recent call last)",
      "Cell \u001b[0;32mIn[24], line 3\u001b[0m\n\u001b[1;32m      1\u001b[0m b \u001b[38;5;241m=\u001b[39m\u001b[38;5;124m\"\u001b[39m\u001b[38;5;124mpwskills\u001b[39m\u001b[38;5;124m\"\u001b[39m\n\u001b[1;32m      2\u001b[0m b\n\u001b[0;32m----> 3\u001b[0m list_cont[\u001b[38;5;241m1\u001b[39m]\u001b[38;5;241m=\u001b[39m \u001b[43mI\u001b[49m\n",
      "\u001b[0;31mNameError\u001b[0m: name 'I' is not defined"
     ]
    }
   ],
   "source": [
    "b =\"pwskills\"\n",
    "b\n",
    "list_cont[1]= I"
   ]
  },
  {
   "cell_type": "code",
   "execution_count": null,
   "id": "82dac5f2-20ec-4aeb-89ea-760101d6364e",
   "metadata": {},
   "outputs": [],
   "source": [
    "#4 Discuss the different types of operators in python and provide examples of how the are used\n",
    "'''Ans special symbols that are used to perform operations on values or variable"
   ]
  },
  {
   "cell_type": "code",
   "execution_count": null,
   "id": "a781ad2d-3cfa-495e-a5c0-007af720c52b",
   "metadata": {},
   "outputs": [],
   "source": [
    "'''1.Arithmatic operator- perform mathematical calculation in programming.\n",
    "  Addition(+),subtraction(-),multiplication(*),division(/),modulus(%),exponentiation(**)"
   ]
  },
  {
   "cell_type": "code",
   "execution_count": 25,
   "id": "9769e796-d44b-40ab-ab0b-ffe35582c1df",
   "metadata": {},
   "outputs": [
    {
     "name": "stdout",
     "output_type": "stream",
     "text": [
      "5\n"
     ]
    }
   ],
   "source": [
    "a = 2\n",
    "b = 3\n",
    "result = a+b\n",
    "print(result)"
   ]
  },
  {
   "cell_type": "code",
   "execution_count": null,
   "id": "8d3ae59b-38dd-4b9b-88d1-82b6d6fd8d63",
   "metadata": {},
   "outputs": [],
   "source": [
    "'''2. comparision operator - used to compare the value of two operands\n",
    "   Equal to('=='),not equal to('!='),greater than(>),less than(<),greater than or equal(>=),less than or equal(<=)"
   ]
  },
  {
   "cell_type": "code",
   "execution_count": 26,
   "id": "40cb4b7c-b378-42a9-bf78-9daf857ca784",
   "metadata": {},
   "outputs": [
    {
     "name": "stdout",
     "output_type": "stream",
     "text": [
      "True\n",
      "False\n"
     ]
    }
   ],
   "source": [
    "a = 9\n",
    "b = 5\n",
    "c = 9\n",
    "print(a==c)\n",
    "print(a==b)"
   ]
  },
  {
   "cell_type": "code",
   "execution_count": null,
   "id": "84093d45-d670-402c-a884-c05fce8f5585",
   "metadata": {},
   "outputs": [],
   "source": [
    "'''3. Logical operator - used to combine multiple conditional statement\n",
    "   AND,OR,NOT"
   ]
  },
  {
   "cell_type": "code",
   "execution_count": 27,
   "id": "fcfdcef2-3759-4fef-841d-62cbb2d6723f",
   "metadata": {},
   "outputs": [
    {
     "name": "stdout",
     "output_type": "stream",
     "text": [
      "at least one number has boolean value as false\n"
     ]
    }
   ],
   "source": [
    "a = 10\n",
    "b = 12\n",
    "c = 0\n",
    "if a and b and c:\n",
    "    print(\"all the numbers have boolean value as true\")\n",
    "else:\n",
    "    print(\"at least one number has boolean value as false\")"
   ]
  },
  {
   "cell_type": "code",
   "execution_count": null,
   "id": "2d022624-297b-4803-b146-9e859f1b27b3",
   "metadata": {},
   "outputs": [],
   "source": [
    "'''4. Bitwise operator - used to perform operations on values and variables.\n",
    "   AND($),OR(|),NOT(-),XOR(^),LEFT SHIFT(<<),RIGHT SHIFT(>>)"
   ]
  },
  {
   "cell_type": "code",
   "execution_count": 30,
   "id": "69755fb5-86a0-4dab-aa59-d9baf05b1210",
   "metadata": {},
   "outputs": [
    {
     "name": "stdout",
     "output_type": "stream",
     "text": [
      "a|b = 14\n"
     ]
    }
   ],
   "source": [
    "a = 10\n",
    "b = 4\n",
    "print(\"a|b =\",a|b)"
   ]
  },
  {
   "cell_type": "code",
   "execution_count": null,
   "id": "a9c05cd6-1d79-47c8-bce8-df3c3767fe72",
   "metadata": {},
   "outputs": [],
   "source": [
    "'''5. Assignment operator -special symbols that carry out arithmetic,logical and bitwise computation.\n",
    "   Assignment(=),addition(+=),subtraction(-=),multiplication(*=),division(/=)"
   ]
  },
  {
   "cell_type": "code",
   "execution_count": 31,
   "id": "60e73cf0-7e8a-431d-988e-4bdd1bb42973",
   "metadata": {},
   "outputs": [
    {
     "name": "stdout",
     "output_type": "stream",
     "text": [
      "8\n"
     ]
    }
   ],
   "source": [
    "a = 3\n",
    "b = 5\n",
    "a += b\n",
    "print(a)"
   ]
  },
  {
   "cell_type": "code",
   "execution_count": null,
   "id": "abdced90-1788-4b19-adf1-f4ef78fda7b3",
   "metadata": {},
   "outputs": [],
   "source": [
    "'''6. Membership operator - used to test whether a value or variable is a member of a sequence such as strings,list or tuple\n",
    "  in, not in"
   ]
  },
  {
   "cell_type": "code",
   "execution_count": null,
   "id": "5afbb0df-5a17-4e6e-8b6f-a094f24af93e",
   "metadata": {},
   "outputs": [],
   "source": [
    "'''7. Identity - used to determine whether two variables refers to the same object in memory\n",
    "   is, not is"
   ]
  },
  {
   "cell_type": "code",
   "execution_count": null,
   "id": "13b6c6b3-39de-47db-81cb-e2d875e1d3d2",
   "metadata": {},
   "outputs": [],
   "source": [
    "#5. Explain the concept of type casting in python with example.\n",
    "'''Ans  The process of changing data type of a value."
   ]
  },
  {
   "cell_type": "code",
   "execution_count": 2,
   "id": "2061281d-34b4-45d9-b522-d9a298f37688",
   "metadata": {},
   "outputs": [
    {
     "ename": "TypeError",
     "evalue": "can only concatenate str (not \"int\") to str",
     "output_type": "error",
     "traceback": [
      "\u001b[0;31m---------------------------------------------------------------------------\u001b[0m",
      "\u001b[0;31mTypeError\u001b[0m                                 Traceback (most recent call last)",
      "Cell \u001b[0;32mIn[2], line 3\u001b[0m\n\u001b[1;32m      1\u001b[0m a \u001b[38;5;241m=\u001b[39m \u001b[38;5;124m\"\u001b[39m\u001b[38;5;124m2\u001b[39m\u001b[38;5;124m\"\u001b[39m\n\u001b[1;32m      2\u001b[0m b \u001b[38;5;241m=\u001b[39m  \u001b[38;5;241m3\u001b[39m\n\u001b[0;32m----> 3\u001b[0m \u001b[43ma\u001b[49m\u001b[43m \u001b[49m\u001b[38;5;241;43m+\u001b[39;49m\u001b[43m \u001b[49m\u001b[43mb\u001b[49m\n\u001b[1;32m      4\u001b[0m \u001b[38;5;66;03m#error\u001b[39;00m\n\u001b[1;32m      5\u001b[0m \u001b[38;5;66;03m#mismatch between the data\u001b[39;00m\n",
      "\u001b[0;31mTypeError\u001b[0m: can only concatenate str (not \"int\") to str"
     ]
    }
   ],
   "source": [
    "a = \"2\"\n",
    "b =  3\n",
    "a + b\n",
    "#error\n",
    "#mismatch between the data"
   ]
  },
  {
   "cell_type": "code",
   "execution_count": 3,
   "id": "1c1e1e89-efe6-480c-b647-af720250ccd0",
   "metadata": {},
   "outputs": [
    {
     "name": "stdout",
     "output_type": "stream",
     "text": [
      "<class 'str'>\n",
      "<class 'int'>\n"
     ]
    }
   ],
   "source": [
    "#string to integer\n",
    "a = \"2\"\n",
    "print(type(a))\n",
    "print(type(int(a)))"
   ]
  },
  {
   "cell_type": "code",
   "execution_count": 4,
   "id": "9825fa86-1f62-48f1-bff5-afa7f86be97c",
   "metadata": {},
   "outputs": [
    {
     "data": {
      "text/plain": [
       "5"
      ]
     },
     "execution_count": 4,
     "metadata": {},
     "output_type": "execute_result"
    }
   ],
   "source": [
    "a = \"2\"\n",
    "b =  3\n",
    "int(a) + b\n"
   ]
  },
  {
   "cell_type": "code",
   "execution_count": null,
   "id": "b24d6055-1fe8-4c47-8a15-e24e40d2e5e3",
   "metadata": {},
   "outputs": [],
   "source": [
    "#6. How dose conditional statements works in python give example\n",
    "'''Ans  Those statements provide s chocice for the control flow based on a condition.It means that the control flow of the python program will be decided on the outcome of the condition.\n",
    "#if\n",
    "#if-else\n",
    "#if-elif-else\n",
    "#nested-if-else"
   ]
  },
  {
   "cell_type": "code",
   "execution_count": 1,
   "id": "28422889-d729-4069-b7ca-444682d033d7",
   "metadata": {},
   "outputs": [
    {
     "name": "stdout",
     "output_type": "stream",
     "text": [
      "10 is greater than 5\n"
     ]
    }
   ],
   "source": [
    "#example (if statement)\n",
    "if 10>5:\n",
    "    print(\"10 is greater than 5\")"
   ]
  },
  {
   "cell_type": "code",
   "execution_count": 2,
   "id": "06fa4c6a-0647-4bc4-a95b-fe5badfdac59",
   "metadata": {},
   "outputs": [
    {
     "name": "stdout",
     "output_type": "stream",
     "text": [
      "no\n"
     ]
    }
   ],
   "source": [
    "#exmple ( if else statement)\n",
    "x = 10\n",
    "if x == 4:\n",
    "    print(\"yes\")\n",
    "else:\n",
    "    print(\"no\")"
   ]
  },
  {
   "cell_type": "code",
   "execution_count": 3,
   "id": "b193cfab-9291-4cbd-9c3d-dc3b35b761a7",
   "metadata": {},
   "outputs": [
    {
     "name": "stdout",
     "output_type": "stream",
     "text": [
      "Food is Apple\n"
     ]
    }
   ],
   "source": [
    "#exmple ( if-elif-else)\n",
    "Food = \"Apple\"\n",
    "if Food == \"cake\":\n",
    "    print(\"Food is cake\")\n",
    "elif Food == \"pizza\":\n",
    "    print(\"Food is pizza\")\n",
    "elif Food == \"Apple\":\n",
    "    print(\"Food is Apple\")\n",
    "else:\n",
    "    print(\"no Food\")"
   ]
  },
  {
   "cell_type": "code",
   "execution_count": null,
   "id": "bd9d6450-a02c-4f08-9829-76f29601b5c3",
   "metadata": {},
   "outputs": [],
   "source": [
    "#exmple ( Nested if else)\n",
    "letter = \"A\"\n",
    "if letter == \"B\":\n",
    "    print(\"letter is B\")\n",
    "else:\n",
    "    if letter == \"c\":\n",
    "        print(\"letter is c\")\n",
    "else:\n",
    "    if letter == \"A\":\n",
    "        print(\"letter is A\")\n",
    "        \n",
    "\n",
    "    "
   ]
  },
  {
   "cell_type": "code",
   "execution_count": null,
   "id": "3cb1e8c5-61f9-4148-b175-cf98bdfd0061",
   "metadata": {},
   "outputs": [],
   "source": [
    "#7. Describe the different types of loops in python and their use cases with example\n",
    "'''Ans It allows you to execute a block of code repeatdly.\n",
    "    There are two type of loop\n",
    "    1.while loop\n",
    "    2.for loop"
   ]
  },
  {
   "cell_type": "code",
   "execution_count": 8,
   "id": "1da3d799-c868-4b8c-a08b-495d84395e58",
   "metadata": {},
   "outputs": [
    {
     "name": "stdout",
     "output_type": "stream",
     "text": [
      "1\n",
      "2\n",
      "3\n",
      "4\n",
      "5\n",
      "6\n"
     ]
    }
   ],
   "source": [
    "#while - repeatedly executed a block of code until a condition is met\n",
    "n = 7\n",
    "i = 1\n",
    "while i < n:\n",
    "    print(i)\n",
    "    i = i + 1"
   ]
  },
  {
   "cell_type": "code",
   "execution_count": 9,
   "id": "54aabd17-0473-4492-967e-753781b1b4a2",
   "metadata": {},
   "outputs": [
    {
     "name": "stdout",
     "output_type": "stream",
     "text": [
      "1\n",
      "2\n",
      "3\n",
      "4\n",
      "5\n",
      "6\n",
      "This will be exeuted without any break\n"
     ]
    }
   ],
   "source": [
    "#while else statement\n",
    "n = 7\n",
    "i = 1\n",
    "while i < n:\n",
    "    print(i)\n",
    "    i = i + 1\n",
    "else:\n",
    "    print(\"This will be exeuted without any break\")"
   ]
  },
  {
   "cell_type": "code",
   "execution_count": 20,
   "id": "7e6509b7-84bb-4a07-b9fa-8d9f73dea07c",
   "metadata": {},
   "outputs": [
    {
     "name": "stdout",
     "output_type": "stream",
     "text": [
      "1\n",
      "2\n"
     ]
    }
   ],
   "source": [
    "#break statement\n",
    "n = 7\n",
    "i = 1\n",
    "while i < n:\n",
    "    print(i)\n",
    "    i = i + 1\n",
    "    if i == 3:\n",
    "        break\n",
    "else:\n",
    "    print(\"This will be exeuted without any break\")"
   ]
  },
  {
   "cell_type": "code",
   "execution_count": 28,
   "id": "ce4ac187-87d4-41bf-a238-f4e9bccb061d",
   "metadata": {},
   "outputs": [
    {
     "name": "stdout",
     "output_type": "stream",
     "text": [
      "2\n",
      "4\n",
      "5\n",
      "6\n",
      "7\n",
      "This will be exeuted without any break\n"
     ]
    }
   ],
   "source": [
    "#break statement\n",
    "n = 7\n",
    "i = 1\n",
    "while i < n:\n",
    "    i = i + 1\n",
    "    if i == 3:\n",
    "        continue\n",
    "    print(i)\n",
    "else:\n",
    "    print(\"This will be exeuted without any break\")"
   ]
  },
  {
   "cell_type": "code",
   "execution_count": null,
   "id": "6ed685d9-1634-453f-98b8-ad9f827f3f4d",
   "metadata": {},
   "outputs": [],
   "source": [
    "#for loops - iterate over a sequence of element"
   ]
  },
  {
   "cell_type": "code",
   "execution_count": 19,
   "id": "4cd5a0f2-4635-4a69-ab09-36bb66240822",
   "metadata": {},
   "outputs": [
    {
     "name": "stdout",
     "output_type": "stream",
     "text": [
      "p\n",
      "w\n",
      "s\n",
      "k\n",
      "i\n",
      "l\n",
      "l\n",
      "s\n"
     ]
    }
   ],
   "source": [
    "for i in \"pwskills\":\n",
    "    print(i)"
   ]
  },
  {
   "cell_type": "code",
   "execution_count": 25,
   "id": "3545af77-41d8-426f-a122-060d13be9ca6",
   "metadata": {},
   "outputs": [
    {
     "name": "stdout",
     "output_type": "stream",
     "text": [
      "0\n",
      "1\n",
      "2\n"
     ]
    }
   ],
   "source": [
    "#break statement\n",
    "for i in range(10):\n",
    "    print(i)\n",
    "    if i == 2:\n",
    "        break"
   ]
  },
  {
   "cell_type": "code",
   "execution_count": 26,
   "id": "51fcf828-3cbc-4193-8566-af36455aa9c2",
   "metadata": {},
   "outputs": [
    {
     "name": "stdout",
     "output_type": "stream",
     "text": [
      "0\n",
      "1\n",
      "3\n",
      "4\n",
      "5\n",
      "6\n",
      "7\n",
      "8\n",
      "9\n"
     ]
    }
   ],
   "source": [
    "#continue statement\n",
    "for i in range(10):\n",
    "    if i == 2:\n",
    "        continue\n",
    "    print(i)"
   ]
  },
  {
   "cell_type": "code",
   "execution_count": null,
   "id": "249e6292-38c2-4167-9595-cf4ead21e072",
   "metadata": {},
   "outputs": [],
   "source": []
  }
 ],
 "metadata": {
  "kernelspec": {
   "display_name": "Python 3 (ipykernel)",
   "language": "python",
   "name": "python3"
  },
  "language_info": {
   "codemirror_mode": {
    "name": "ipython",
    "version": 3
   },
   "file_extension": ".py",
   "mimetype": "text/x-python",
   "name": "python",
   "nbconvert_exporter": "python",
   "pygments_lexer": "ipython3",
   "version": "3.10.8"
  },
  "toc-autonumbering": true
 },
 "nbformat": 4,
 "nbformat_minor": 5
}
